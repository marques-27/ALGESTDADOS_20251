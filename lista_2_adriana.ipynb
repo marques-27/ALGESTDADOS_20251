{
  "nbformat": 4,
  "nbformat_minor": 0,
  "metadata": {
    "colab": {
      "provenance": [],
      "authorship_tag": "ABX9TyNFuD1ItrdVyFPK4CoquAXB",
      "include_colab_link": true
    },
    "kernelspec": {
      "name": "python3",
      "display_name": "Python 3"
    },
    "language_info": {
      "name": "python"
    }
  },
  "cells": [
    {
      "cell_type": "markdown",
      "metadata": {
        "id": "view-in-github",
        "colab_type": "text"
      },
      "source": [
        "<a href=\"https://colab.research.google.com/github/marques-27/ALGESTDADOS_20251/blob/main/lista_2_adriana.ipynb\" target=\"_parent\"><img src=\"https://colab.research.google.com/assets/colab-badge.svg\" alt=\"Open In Colab\"/></a>"
      ]
    },
    {
      "cell_type": "markdown",
      "source": [
        "Lista 2 Adriana Marques Fernandes"
      ],
      "metadata": {
        "id": "Ie2EOHAjO3zF"
      }
    },
    {
      "cell_type": "code",
      "source": [
        "#1 Crie um algoritmo que receba o horário (hora e minuto) de entrada e saída de um funcionário em um dia de trabalho. Calcule o tempo total trabalhado em horas e minutos, considerando que ele teve uma pausa de 1h para almoço, e diga se ele cumpriu uma jornada de pelo menos 8h diárias.\n",
        "entrada = input(\"Digite o horário de entrada (hh:mm): \")\n",
        "saida = input(\"Digite o horário de saída (hh:mm): \")\n",
        "if entrada > saida:\n",
        "  print(\"O horário de entrada não pode ser maior que o horário de saída.\")\n",
        "  else:\n",
        "    entrada = entrada.split(\":\")\n",
        "    saida = saida.split(\":\")\n",
        "    entrada = [int(x) for x in entrada]\n",
        "    saida = [int(x) for x in saida]\n",
        "    hora = saida[0] - entrada[0]\n",
        "    if saida[1] < entrada[1]:\n",
        "      hora -= 1\n",
        "      elif saida[1] == entrada[1]:\n",
        "        hora -= 1\n",
        "        if hora >= 8:\n",
        "          print(\"O funcionário cumpriu uma jornada de pelo menos 8h diárias.\")\n",
        "          else:\n",
        "            print(\"O funcionário não cumpriu uma jornada de pelo menos 8h diárias.\")\n",
        "            print(\"O tempo total trabalhado foi de\", hora, \"horas e\", saida[1] - entrada[1], \"minutos.\")\n",
        ""
      ],
      "metadata": {
        "id": "z6f_UpNGa4Qf"
      },
      "execution_count": null,
      "outputs": []
    },
    {
      "cell_type": "code",
      "source": [
        "#2 Crie um algoritmo que receba a data de nascimento (dia, mês e ano) de uma pessoa e a data atual, e diga com precisão sua idade em anos, meses e dias. Use condicionais para lidar com casos em que o mês ou dia ainda não tenha sido atingido no ano corrente.\n",
        "nascimento = input(\"Digite a data de nascimento (dd/mm/aaaa): \")\n",
        "dataatual = input(\"Digite a data atual (dd/mm/aaaa): \")\n",
        "nascimento = nascimento.split(\"/\")\n",
        "dataatual = dataatual.split(\"/\")\n",
        "nascimento = [int(x) for x in nascimento]\n",
        "dataatual = [int(x) for x in dataatual]\n",
        "idade = dataatual[2] - nascimento[2]\n",
        "if dataatual[1] < nascimento[1]:\n",
        "  idade -= 1\n",
        "elif dataatual[1] == nascimento[1]:\n",
        "  if dataatual[0] < nascimento[0]:\n",
        "    idade -= 1"
      ],
      "metadata": {
        "id": "SZeJEWFkP77N"
      },
      "execution_count": null,
      "outputs": []
    },
    {
      "cell_type": "code",
      "source": [
        "#3 Elabore um algoritmo que simule um monitor de qualidade do ar. O usuário informará 3 valores de índice de poluentes de diferentes horários de um mesmo dia. O programa deve calcular a média e classificar como \"bom\", \"moderado\", \"ruim\", \"muito ruim\" ou \"péssimo\", com base em faixas fornecidas pelo código.\n",
        "valor1 = float(input(\"Digite o valor do índice de poluentes no primeiro horário: \"))\n",
        "valor2 = float(input(\"Digite o valor do índice de poluentes no segundo horário: \"))\n",
        "valor3 = float(input(\"Digite o valor do índice de poluentes no terceiro horário: \"))\n",
        "media = (valor1 + valor2 + valor3) / 3\n",
        "if media <= 50:\n",
        "  print(\"O índice de poluentes é bom.\")\n",
        "  elif media <= 100:\n",
        "    print(\"O índice de poluentes é moderado.\")\n",
        "    elif media <= 150:\n",
        "      print(\"O índice de poluentes é ruim.\")\n",
        "      elif media <= 200:\n",
        "        print(\"O índice de poluentes é muito ruim.\")\n",
        "        else:\n",
        "          print(\"O índice de poluentes é péssimo.\")\n",
        ""
      ],
      "metadata": {
        "id": "ohhHsgKHQAqs"
      },
      "execution_count": null,
      "outputs": []
    },
    {
      "cell_type": "code",
      "source": [
        "#4Desenvolva um algoritmo que simule a geração de um extrato de abastecimento de combustível. O usuário deve informar o valor em reais que abasteceu, o preço do litro e a quilometragem inicial e final da viagem. Calcule quantos litros foram colocados e a média de km/l, informando se o carro teve desempenho bom (acima de 12 km/l), médio (8-12 km/l) ou ruim (abaixo de 8 km/l).\n",
        "valor = float(input(\"Digite o valor em reais que abasteceu: \"))\n",
        "preco = float(input(\"Digite o preço do litro: \"))\n",
        "inicial = float(input(\"Digite a quilometragem inicial: \"))\n",
        "final = float(input(\"Digite a quilometragem final: \"))\n",
        "litros = valor / preco\n",
        "km = final - inicial\n",
        "media = km / litros\n",
        "if media > 12:\n",
        "  print(\"O carro teve desempenho bom.\")\n",
        "  elif media >= 8:\n",
        "    print(\"O carro teve desempenho médio.\")\n",
        "    else:\n",
        "      print(\"O carro teve desempenho ruim.\")\n",
        "      print(\"Foram colocados\", litros, \"litros de combustível.\")\n",
        "      print(\"A média de km/l foi de\", media, \"km/l.\")\n",
        ""
      ],
      "metadata": {
        "id": "rQcMiyrUQHLC"
      },
      "execution_count": null,
      "outputs": []
    },
    {
      "cell_type": "code",
      "source": [
        "#5 Crie um algoritmo que pergunte o nome e o tempo total (em minutos) gasto por uma pessoa em atividades físicas durante 7 dias. Ao final, mostre a média diária, a soma total e diga se ela atingiu o mínimo recomendado de 150 minutos semanais.\n",
        "nome = input(\"Digite o nome: \")\n",
        "tempo = 0\n",
        "for i in range(7):\n",
        "  tempo += int(input(\"Digite o tempo gasto em minutos: \"))\n",
        "media = tempo / 7\n",
        "print(\"A média diária foi de\", media, \"minutos.\")\n",
        "print(\"A soma total foi de\", tempo, \"minutos.\")\n",
        "if tempo >= 150:\n",
        "  print(\"A média diária atingiu o mínimo recomendado.\")\n",
        "  else:\n",
        "    print(\"A média diária não atingiu o mínimo recomendado.\")\n",
        ""
      ],
      "metadata": {
        "id": "FJ0ko-GuQHKU"
      },
      "execution_count": null,
      "outputs": []
    },
    {
      "cell_type": "code",
      "source": [
        "#6 Desenvolva um algoritmo que simule o acompanhamento de consumo de água em uma residência. O usuário informará o valor do hidrômetro no início e no fim do mês. O sistema calculará o total consumido e o valor a pagar, seguindo uma tabela de faixas de consumo (ex: até 10 m³, tarifa fixa; de 11 a 20, valor extra por m³; acima de 20, tarifa mais alta).\n",
        "consumo = float(input(\"Digite o consumo de água em m³: \"))\n",
        "if consumo <= 10:\n",
        "  print(\"O valor a pagar é de R$ 50,00\")\n",
        "  elif consumo >= 11 and consumo <= 20:\n",
        "    print(\"O valor a pagar é de R$ 60,00\")\n",
        "    else:\n",
        "      print(\"O valor a pagar é de R$ 70,00\")\n"
      ],
      "metadata": {
        "id": "h9mbJi6eQR6M"
      },
      "execution_count": null,
      "outputs": []
    },
    {
      "cell_type": "code",
      "source": [
        "#07 Elabore um algoritmo que simule a pontualidade de voos. Receba o horário previsto e o horário real de chegada (hora e minuto). Informe o tempo de atraso ou adiantamento e classifique o voo como “pontual” (diferença ≤ 5 min), “ligeiramente atrasado/adiantado” (até 30 min) ou “muito atrasado/adiantado” (> 30 min).\n",
        "horarioprevisto = input(\"Digite o horário previsto de chegada (hh:mm): \")\n",
        "horarioreal = input(\"Digite o horário real de chegada (hh:mm): \")\n",
        "horarioprevisto = horarioprevisto.split(\":\")\n",
        "horarioreal = horarioreal.split(\":\")\n",
        "horarioprevisto = [int(x) for x in horarioprevisto]\n",
        "horarioreal = [int(x) for x in horarioreal]\n",
        "atraso = horarioreal[0] - horarioprevisto[0]\n",
        "if atraso < 0:\n",
        "  atraso *= -1\n",
        "if atraso <= 5:\n",
        "  print(\"O voo está pontual.\")\n",
        "  elif atraso <= 30:\n",
        "    print(\"O voo está ligeiramente atrasado/adiantado.\")\n",
        "    else:\n",
        "      print(\"O voo está muito atrasado/adiantado.\")\n"
      ],
      "metadata": {
        "id": "yrv8qlwDYyHl"
      },
      "execution_count": null,
      "outputs": []
    },
    {
      "cell_type": "code",
      "source": [
        "#08 Crie um algoritmo que simule o cálculo de tempo total de tela (TV, celular, computador). Para cada dispositivo, o usuário informa quanto tempo usou por dia (em horas e minutos) por 3 dias. O sistema deve apresentar o tempo total em horas e minutos, destacando o aparelho com maior uso e emitindo um alerta caso o total passe de 10 horas diárias.\n",
        "tv = 0\n",
        "celular = 0\n",
        "computador = 0\n",
        "for i in range(3):\n",
        "  tv += int(input(\"Digite o tempo de TV usado em horas: \")) * 60\n",
        "  tv += int(input(\"Digite o tempo de TV usado em minutos: \"))\n",
        "  celular += int(input(\"Digite o tempo de celular usado em horas: \")) * 60\n",
        "  celular += int(input(\"Digite o tempo de celular usado em minutos: \"))\n",
        "  computador += int(input(\"Digite o tempo de computador usado em horas: \")) * 60\n",
        "  computador += int(input(\"Digite o tempo de computador usado em minutos: \"))\n",
        "  if tv > 10\n",
        "  tvhora = tv // 60\n",
        "  tvmin = tv % 60\n",
        "  celularhora = celular // 60\n",
        "  celularmin = celular % 60\n",
        "  computadorhora = computador // 60\n",
        "  computadormin = computador % 60\n",
        "  print(\"O tempo total de TV foi de\", tvhora, \"horas e\", tvmin, \"minutos.\")\n",
        "  print(\"O tempo total de celular foi de\", celularhora, \"horas e\", celularmin, \"minutos.\")\n",
        "  print(\"O tempo total de computador foi de\", computadorhora, \"horas e\", computadormin, \"minutos.\")\n",
        "  if tvhora > 10:\n",
        "    print(\"O aparelho com maior uso é o de TV.\")\n",
        "    elif celularhora > computadorhora:\n",
        "      print(\"O aparelho com maior uso é o de celular.\")\n",
        "      else:\n",
        "        print(\"O aparelho com maior uso é o de computador.\")\n",
        "        else:\n",
        "          print(\"O tempo total de TV foi de\", tvhora, \"horas e\", tvmin, \"minutos.\")\n",
        "          print(\"O tempo total de celular foi de\", celularhora, \"horas e\", celularmin, \"minutos.\")\n",
        "          print(\"O tempo total de computador foi de\", computadorhora, \"horas e\", computadormin, \"minutos.\")\n",
        "          if tvhora > 10:\n",
        "            print(\"O aparelho com maior uso é o de TV.\")\n",
        "            elif celularhora > computadorhora:\n",
        "              print(\"O aparelho com maior uso é o de celular.\")\n",
        "              else:\n",
        "                print(\"O aparelho com maior uso é o de computador.\")\n",
        "\n"
      ],
      "metadata": {
        "id": "lZ1Q_vNyY2F2"
      },
      "execution_count": null,
      "outputs": []
    },
    {
      "cell_type": "code",
      "source": [
        "#09 Elabore um algoritmo que simule o rendimento de um plantio de hortaliças. Receba a área (em m²), o tipo da planta (cenoura, alface ou couve) e o rendimento médio por m². Calcule a produção esperada e diga se será suficiente para abastecer um mercado local (mínimo de 100 kg).\n",
        "tipo = input(\"Digite o tipo da planta (cenoura, alface ou couve): \")\n",
        "area = float(input(\"Digite a área em m²: \"))\n",
        "rendimento = float(input(\"Digite o rendimento médio por m²: \"))\n",
        "producao = area * rendimento\n",
        "#09 Elabore um algoritmo que simule o rendimento de um plantio de hortaliças. Receba a área (em m²), o tipo da planta (cenoura, alface ou couve) e o rendimento médio por m². Calcule a produção esperada e diga se será suficiente para abastecer um mercado local (mínimo de 100 kg).\n",
        "tipo = input(\"Digite o tipo da planta (cenoura, alface ou couve): \")\n",
        "area = float(input(\"Digite a área em m²: \"))\n",
        "rendimento = float(input(\"Digite o rendimento médio por m²: \"))\n",
        "producao = area * rendimento\n",
        "if producao >= 100:\n",
        "  print(\"A produção é suficiente para abastecer um mercado local.\")\n",
        "else:\n",
        "    print(\"A produção não é suficiente para abastecer um mercado local.\")\n",
        "    print(\"A produção esperada é de\", producao, \"kg.\")\n",
        "\n",
        ""
      ],
      "metadata": {
        "colab": {
          "base_uri": "https://localhost:8080/",
          "height": 406
        },
        "id": "PcK10HuJY10f",
        "outputId": "161b1527-1f4d-4c58-debd-869157ab2ace"
      },
      "execution_count": 31,
      "outputs": [
        {
          "output_type": "error",
          "ename": "KeyboardInterrupt",
          "evalue": "Interrupted by user",
          "traceback": [
            "\u001b[0;31m---------------------------------------------------------------------------\u001b[0m",
            "\u001b[0;31mKeyboardInterrupt\u001b[0m                         Traceback (most recent call last)",
            "\u001b[0;32m<ipython-input-31-6e1ccae3d52d>\u001b[0m in \u001b[0;36m<cell line: 0>\u001b[0;34m()\u001b[0m\n\u001b[1;32m      1\u001b[0m \u001b[0;31m#09 Elabore um algoritmo que simule o rendimento de um plantio de hortaliças. Receba a área (em m²), o tipo da planta (cenoura, alface ou couve) e o rendimento médio por m². Calcule a produção esperada e diga se será suficiente para abastecer um mercado local (mínimo de 100 kg).\u001b[0m\u001b[0;34m\u001b[0m\u001b[0;34m\u001b[0m\u001b[0m\n\u001b[0;32m----> 2\u001b[0;31m \u001b[0mtipo\u001b[0m \u001b[0;34m=\u001b[0m \u001b[0minput\u001b[0m\u001b[0;34m(\u001b[0m\u001b[0;34m\"Digite o tipo da planta (cenoura, alface ou couve): \"\u001b[0m\u001b[0;34m)\u001b[0m\u001b[0;34m\u001b[0m\u001b[0;34m\u001b[0m\u001b[0m\n\u001b[0m\u001b[1;32m      3\u001b[0m \u001b[0marea\u001b[0m \u001b[0;34m=\u001b[0m \u001b[0mfloat\u001b[0m\u001b[0;34m(\u001b[0m\u001b[0minput\u001b[0m\u001b[0;34m(\u001b[0m\u001b[0;34m\"Digite a área em m²: \"\u001b[0m\u001b[0;34m)\u001b[0m\u001b[0;34m)\u001b[0m\u001b[0;34m\u001b[0m\u001b[0;34m\u001b[0m\u001b[0m\n\u001b[1;32m      4\u001b[0m \u001b[0mrendimento\u001b[0m \u001b[0;34m=\u001b[0m \u001b[0mfloat\u001b[0m\u001b[0;34m(\u001b[0m\u001b[0minput\u001b[0m\u001b[0;34m(\u001b[0m\u001b[0;34m\"Digite o rendimento médio por m²: \"\u001b[0m\u001b[0;34m)\u001b[0m\u001b[0;34m)\u001b[0m\u001b[0;34m\u001b[0m\u001b[0;34m\u001b[0m\u001b[0m\n\u001b[1;32m      5\u001b[0m \u001b[0mproducao\u001b[0m \u001b[0;34m=\u001b[0m \u001b[0marea\u001b[0m \u001b[0;34m*\u001b[0m \u001b[0mrendimento\u001b[0m\u001b[0;34m\u001b[0m\u001b[0;34m\u001b[0m\u001b[0m\n",
            "\u001b[0;32m/usr/local/lib/python3.11/dist-packages/ipykernel/kernelbase.py\u001b[0m in \u001b[0;36mraw_input\u001b[0;34m(self, prompt)\u001b[0m\n\u001b[1;32m   1175\u001b[0m                 \u001b[0;34m\"raw_input was called, but this frontend does not support input requests.\"\u001b[0m\u001b[0;34m\u001b[0m\u001b[0;34m\u001b[0m\u001b[0m\n\u001b[1;32m   1176\u001b[0m             )\n\u001b[0;32m-> 1177\u001b[0;31m         return self._input_request(\n\u001b[0m\u001b[1;32m   1178\u001b[0m             \u001b[0mstr\u001b[0m\u001b[0;34m(\u001b[0m\u001b[0mprompt\u001b[0m\u001b[0;34m)\u001b[0m\u001b[0;34m,\u001b[0m\u001b[0;34m\u001b[0m\u001b[0;34m\u001b[0m\u001b[0m\n\u001b[1;32m   1179\u001b[0m             \u001b[0mself\u001b[0m\u001b[0;34m.\u001b[0m\u001b[0m_parent_ident\u001b[0m\u001b[0;34m[\u001b[0m\u001b[0;34m\"shell\"\u001b[0m\u001b[0;34m]\u001b[0m\u001b[0;34m,\u001b[0m\u001b[0;34m\u001b[0m\u001b[0;34m\u001b[0m\u001b[0m\n",
            "\u001b[0;32m/usr/local/lib/python3.11/dist-packages/ipykernel/kernelbase.py\u001b[0m in \u001b[0;36m_input_request\u001b[0;34m(self, prompt, ident, parent, password)\u001b[0m\n\u001b[1;32m   1217\u001b[0m             \u001b[0;32mexcept\u001b[0m \u001b[0mKeyboardInterrupt\u001b[0m\u001b[0;34m:\u001b[0m\u001b[0;34m\u001b[0m\u001b[0;34m\u001b[0m\u001b[0m\n\u001b[1;32m   1218\u001b[0m                 \u001b[0;31m# re-raise KeyboardInterrupt, to truncate traceback\u001b[0m\u001b[0;34m\u001b[0m\u001b[0;34m\u001b[0m\u001b[0m\n\u001b[0;32m-> 1219\u001b[0;31m                 \u001b[0;32mraise\u001b[0m \u001b[0mKeyboardInterrupt\u001b[0m\u001b[0;34m(\u001b[0m\u001b[0;34m\"Interrupted by user\"\u001b[0m\u001b[0;34m)\u001b[0m \u001b[0;32mfrom\u001b[0m \u001b[0;32mNone\u001b[0m\u001b[0;34m\u001b[0m\u001b[0;34m\u001b[0m\u001b[0m\n\u001b[0m\u001b[1;32m   1220\u001b[0m             \u001b[0;32mexcept\u001b[0m \u001b[0mException\u001b[0m\u001b[0;34m:\u001b[0m\u001b[0;34m\u001b[0m\u001b[0;34m\u001b[0m\u001b[0m\n\u001b[1;32m   1221\u001b[0m                 \u001b[0mself\u001b[0m\u001b[0;34m.\u001b[0m\u001b[0mlog\u001b[0m\u001b[0;34m.\u001b[0m\u001b[0mwarning\u001b[0m\u001b[0;34m(\u001b[0m\u001b[0;34m\"Invalid Message:\"\u001b[0m\u001b[0;34m,\u001b[0m \u001b[0mexc_info\u001b[0m\u001b[0;34m=\u001b[0m\u001b[0;32mTrue\u001b[0m\u001b[0;34m)\u001b[0m\u001b[0;34m\u001b[0m\u001b[0;34m\u001b[0m\u001b[0m\n",
            "\u001b[0;31mKeyboardInterrupt\u001b[0m: Interrupted by user"
          ]
        }
      ]
    },
    {
      "cell_type": "code",
      "source": [
        "#10 Crie um algoritmo que simule um plano de leitura. O usuário informa a quantidade de páginas de um livro, o tempo diário disponível para leitura (em minutos) e a velocidade média de leitura (páginas por minuto). O programa deve estimar quantos dias ele levará para terminar e sugerir um cronograma diário.\n",
        "leitura = int(input(\"Digite a quantidade de páginas do livro: \"))\n",
        "tempo = int(input(\"Digite o tempo diário disponível para leitura em minutos: \"))\n",
        "velocidade = int(input(\"Digite a velocidade média de leitura em páginas por minuto: \"))\n",
        "dias = leitura / (velocidade * tempo)\n",
        "print(\"O livro levará aproximadamente\", dias, \"dias para ser lido.\")\n",
        "\n"
      ],
      "metadata": {
        "colab": {
          "base_uri": "https://localhost:8080/",
          "height": 406
        },
        "id": "ap1hhPCnYxbl",
        "outputId": "9f1caa51-2a1c-4f75-fce6-890be2927d45"
      },
      "execution_count": 32,
      "outputs": [
        {
          "output_type": "error",
          "ename": "KeyboardInterrupt",
          "evalue": "Interrupted by user",
          "traceback": [
            "\u001b[0;31m---------------------------------------------------------------------------\u001b[0m",
            "\u001b[0;31mKeyboardInterrupt\u001b[0m                         Traceback (most recent call last)",
            "\u001b[0;32m<ipython-input-32-2681f2757e42>\u001b[0m in \u001b[0;36m<cell line: 0>\u001b[0;34m()\u001b[0m\n\u001b[1;32m      1\u001b[0m \u001b[0;31m#10 Crie um algoritmo que simule um plano de leitura. O usuário informa a quantidade de páginas de um livro, o tempo diário disponível para leitura (em minutos) e a velocidade média de leitura (páginas por minuto). O programa deve estimar quantos dias ele levará para terminar e sugerir um cronograma diário.\u001b[0m\u001b[0;34m\u001b[0m\u001b[0;34m\u001b[0m\u001b[0m\n\u001b[0;32m----> 2\u001b[0;31m \u001b[0mleitura\u001b[0m \u001b[0;34m=\u001b[0m \u001b[0mint\u001b[0m\u001b[0;34m(\u001b[0m\u001b[0minput\u001b[0m\u001b[0;34m(\u001b[0m\u001b[0;34m\"Digite a quantidade de páginas do livro: \"\u001b[0m\u001b[0;34m)\u001b[0m\u001b[0;34m)\u001b[0m\u001b[0;34m\u001b[0m\u001b[0;34m\u001b[0m\u001b[0m\n\u001b[0m\u001b[1;32m      3\u001b[0m \u001b[0mtempo\u001b[0m \u001b[0;34m=\u001b[0m \u001b[0mint\u001b[0m\u001b[0;34m(\u001b[0m\u001b[0minput\u001b[0m\u001b[0;34m(\u001b[0m\u001b[0;34m\"Digite o tempo diário disponível para leitura em minutos: \"\u001b[0m\u001b[0;34m)\u001b[0m\u001b[0;34m)\u001b[0m\u001b[0;34m\u001b[0m\u001b[0;34m\u001b[0m\u001b[0m\n\u001b[1;32m      4\u001b[0m \u001b[0mvelocidade\u001b[0m \u001b[0;34m=\u001b[0m \u001b[0mint\u001b[0m\u001b[0;34m(\u001b[0m\u001b[0minput\u001b[0m\u001b[0;34m(\u001b[0m\u001b[0;34m\"Digite a velocidade média de leitura em páginas por minuto: \"\u001b[0m\u001b[0;34m)\u001b[0m\u001b[0;34m)\u001b[0m\u001b[0;34m\u001b[0m\u001b[0;34m\u001b[0m\u001b[0m\n\u001b[1;32m      5\u001b[0m \u001b[0mdias\u001b[0m \u001b[0;34m=\u001b[0m \u001b[0mleitura\u001b[0m \u001b[0;34m/\u001b[0m \u001b[0;34m(\u001b[0m\u001b[0mvelocidade\u001b[0m \u001b[0;34m*\u001b[0m \u001b[0mtempo\u001b[0m\u001b[0;34m)\u001b[0m\u001b[0;34m\u001b[0m\u001b[0;34m\u001b[0m\u001b[0m\n",
            "\u001b[0;32m/usr/local/lib/python3.11/dist-packages/ipykernel/kernelbase.py\u001b[0m in \u001b[0;36mraw_input\u001b[0;34m(self, prompt)\u001b[0m\n\u001b[1;32m   1175\u001b[0m                 \u001b[0;34m\"raw_input was called, but this frontend does not support input requests.\"\u001b[0m\u001b[0;34m\u001b[0m\u001b[0;34m\u001b[0m\u001b[0m\n\u001b[1;32m   1176\u001b[0m             )\n\u001b[0;32m-> 1177\u001b[0;31m         return self._input_request(\n\u001b[0m\u001b[1;32m   1178\u001b[0m             \u001b[0mstr\u001b[0m\u001b[0;34m(\u001b[0m\u001b[0mprompt\u001b[0m\u001b[0;34m)\u001b[0m\u001b[0;34m,\u001b[0m\u001b[0;34m\u001b[0m\u001b[0;34m\u001b[0m\u001b[0m\n\u001b[1;32m   1179\u001b[0m             \u001b[0mself\u001b[0m\u001b[0;34m.\u001b[0m\u001b[0m_parent_ident\u001b[0m\u001b[0;34m[\u001b[0m\u001b[0;34m\"shell\"\u001b[0m\u001b[0;34m]\u001b[0m\u001b[0;34m,\u001b[0m\u001b[0;34m\u001b[0m\u001b[0;34m\u001b[0m\u001b[0m\n",
            "\u001b[0;32m/usr/local/lib/python3.11/dist-packages/ipykernel/kernelbase.py\u001b[0m in \u001b[0;36m_input_request\u001b[0;34m(self, prompt, ident, parent, password)\u001b[0m\n\u001b[1;32m   1217\u001b[0m             \u001b[0;32mexcept\u001b[0m \u001b[0mKeyboardInterrupt\u001b[0m\u001b[0;34m:\u001b[0m\u001b[0;34m\u001b[0m\u001b[0;34m\u001b[0m\u001b[0m\n\u001b[1;32m   1218\u001b[0m                 \u001b[0;31m# re-raise KeyboardInterrupt, to truncate traceback\u001b[0m\u001b[0;34m\u001b[0m\u001b[0;34m\u001b[0m\u001b[0m\n\u001b[0;32m-> 1219\u001b[0;31m                 \u001b[0;32mraise\u001b[0m \u001b[0mKeyboardInterrupt\u001b[0m\u001b[0;34m(\u001b[0m\u001b[0;34m\"Interrupted by user\"\u001b[0m\u001b[0;34m)\u001b[0m \u001b[0;32mfrom\u001b[0m \u001b[0;32mNone\u001b[0m\u001b[0;34m\u001b[0m\u001b[0;34m\u001b[0m\u001b[0m\n\u001b[0m\u001b[1;32m   1220\u001b[0m             \u001b[0;32mexcept\u001b[0m \u001b[0mException\u001b[0m\u001b[0;34m:\u001b[0m\u001b[0;34m\u001b[0m\u001b[0;34m\u001b[0m\u001b[0m\n\u001b[1;32m   1221\u001b[0m                 \u001b[0mself\u001b[0m\u001b[0;34m.\u001b[0m\u001b[0mlog\u001b[0m\u001b[0;34m.\u001b[0m\u001b[0mwarning\u001b[0m\u001b[0;34m(\u001b[0m\u001b[0;34m\"Invalid Message:\"\u001b[0m\u001b[0;34m,\u001b[0m \u001b[0mexc_info\u001b[0m\u001b[0;34m=\u001b[0m\u001b[0;32mTrue\u001b[0m\u001b[0;34m)\u001b[0m\u001b[0;34m\u001b[0m\u001b[0;34m\u001b[0m\u001b[0m\n",
            "\u001b[0;31mKeyboardInterrupt\u001b[0m: Interrupted by user"
          ]
        }
      ]
    },
    {
      "cell_type": "code",
      "source": [
        "\n",
        "#11 Desenvolva um algoritmo que simule o tempo de espera em uma fila de atendimento. O usuário informa o número de pessoas na frente e o tempo médio de atendimento por pessoa. O programa deve exibir o tempo total estimado de espera em horas e minutos e indicar se é melhor voltar depois.\n",
        "tempo_de_espera = int(input(\"Digite o número de pessoas na frente: \"))\n",
        "tempo_medio_de_atendimento = int(input(\"Digite o tempo médio de atendimento por pessoa em minutos: \"))\n",
        "tempo_total_de_espera = tempo_de_espera * tempo_medio_de_atendimento\n",
        "tempo_total_de_espera_em_horas = tempo_total_de_espera // 60\n",
        "tempo_total_de_espera_em_minutos = tempo_total_de_espera % 60\n",
        "print(\"O tempo total de espera é de\", tempo_total_de_espera_em_horas, \"horas e\", tempo_total_de_espera_em_minutos, \"minutos.\")\n"
      ],
      "metadata": {
        "id": "8RVai7QVY6kd"
      },
      "execution_count": null,
      "outputs": []
    },
    {
      "cell_type": "code",
      "source": [
        "#12 Elabore um algoritmo que ajude no controle de validade de alimentos. O usuário informa a data de fabricação e a validade (em dias). O programa calcula quantos dias faltam para vencer e emite alertas em cores (texto) se estiver perto de vencer (menos de 5 dias) ou já vencido.\n",
        "fabricacao = input(\"Digite a data de fabricação (dd/mm/aaaa): \")\n",
        "validade = int(input(\"Digite a validade em dias: \"))\n",
        "fabricacao = fabricacao.split(\"/\")\n",
        "fabricacao = [int(x) for x in fabricacao]\n",
        "dataatual = input(\"Digite a data atual (dd/mm/aaaa): \")\n",
        "dataatual = dataatual.split(\"/\")\n",
        "dataatual = [int(x) for x in dataatual]\n",
        "dias = validade - (dataatual[0] - fabricacao[0])\n"
      ],
      "metadata": {
        "id": "ijnbBHi_Y6-W"
      },
      "execution_count": null,
      "outputs": []
    },
    {
      "cell_type": "code",
      "source": [
        "#13  Crie um algoritmo que receba a data atual e a data de um evento (em qualquer ano) e informe quantos dias faltam. O programa deve considerar se o evento está no mesmo ano, em um ano futuro ou se já passou.\n",
        "dataatual = input(\"Digite a data atual (dd/mm/aaaa): \")\n",
        "dataevento = input(\"Digite a data do evento (dd/mm/aaaa): \")\n",
        "if dataatual > dataevento:\n",
        "  print(\"O evento já passou.\")\n",
        "  elif dataatual == dataevento:\n",
        "    print(\"O evento está no mesmo ano.\")\n",
        "    else:\n",
        "      print(\"O evento está em um ano futuro.\")\n",
        "      dataatual = dataatual.split(\"/\")\n",
        "      dataevento = dataevento.split(\"/\")\n",
        "      dataatual = [int(x) for x in dataatual]\n",
        "      dataevento = [int(x) for x in dataevento]\n",
        "      dias = dataevento[0] - dataatual[0]\n",
        "      if dataevento[1] < dataatual[1]:\n",
        "        dias -= 1\n",
        "        elif dataevento[1] == dataatual[1]:\n",
        "          if dataevento[2] < dataatual[2]:\n",
        "            dias -= 1\n",
        "            else:\n",
        "              print(\"Faltam\", dias, \"dias para o evento.\")\n",
        "\n"
      ],
      "metadata": {
        "id": "nBObyP1HhORT"
      },
      "execution_count": null,
      "outputs": []
    },
    {
      "cell_type": "code",
      "source": [
        "#14  Desenvolva um algoritmo que ajude a controlar o tempo de tela de crianças. O usuário deve informar a idade da criança e o tempo de uso de dispositivos eletrônicos. Com base na recomendação da OMS para cada faixa etária, diga se o uso está adequado ou exagerado.\n",
        "tempo = float(input(\"Digite o tempo de uso de dispositivos eletrônicos em horas: \"))\n",
        "idade = int(input(\"Digite a idade da criança: \"))\n",
        "if idade >= 0 and idade <= 5:\n",
        "  if tempo <= 1:\n",
        "    print(\"O uso está adequado.\")\n",
        "    elif tempo <= 2:\n",
        "      print(\"O uso está exagerado.\")\n",
        "      else:\n",
        "        print(\"O uso está exagerado.\")\n",
        "        elif idade >= 6 and idade <= 11:\n",
        "          if tempo <= 2:\n",
        "            print(\"O uso está adequado.\")\n",
        "            elif tempo <= 3:\n",
        "              print(\"O uso está exagerado.\")\n",
        "              else:\n",
        "                print(\"O uso está exagerado.\")\n",
        "                elif idade >= 12 and idade <= 17:\n",
        "                  if tempo <=\n",
        "                  print(\"O uso está adequado.\")\n",
        "                  elif tempo <= 4:\n",
        "                    print(\"O uso está exagerado.\")\n",
        "                    else:\n",
        "                      print(\"O uso está exagerado.\")\n",
        "                      else:\n",
        "                        print(\"Idade inválida.\")\n",
        ""
      ],
      "metadata": {
        "id": "8YV-CZ0ahScO"
      },
      "execution_count": null,
      "outputs": []
    },
    {
      "cell_type": "code",
      "source": [
        "#15  Elabore um algoritmo que calcule o tempo exato de um voo com escalas. O usuário informa o horário de saída, o tempo de voo e o tempo total de espera em escalas. O sistema deve calcular o horário final de chegada e a duração total da viagem.\n",
        "hora = int(input(\"Digite a hora de saída: \"))\n",
        "minutos = int(input(\"Digite os minutos de saída: \"))\n",
        "tempo = int(input(\"Digite o tempo de voo em minutos: \"))\n",
        "espera = int(input(\"Digite o tempo total de espera em escalas em minutos: \"))\n",
        "hora += tempo // 60\n",
        "minutos += tempo % 60\n",
        "minutos += espera\n",
        "if minutos >= 60:\n",
        "    hora += minutos // 60\n",
        "    minutos = minutos % 60\n",
        "    if hora >= 24:\n",
        "        hora -= 24\n",
        "print(\"O horário final de chegada é: \", hora, \":\", minutos)\n",
        "print(\"A duração total da viagem é: \", tempo + espera, \"minutos\")\n"
      ],
      "metadata": {
        "colab": {
          "base_uri": "https://localhost:8080/"
        },
        "id": "mtCo248zhZ7z",
        "outputId": "d457419b-713a-4844-e534-f93585659a16"
      },
      "execution_count": 16,
      "outputs": [
        {
          "output_type": "stream",
          "name": "stdout",
          "text": [
            "Digite a hora de saída: 12\n",
            "Digite os minutos de saída: 5\n",
            "Digite o tempo de voo em minutos: 60\n",
            "Digite o tempo total de espera em escalas em minutos: 3\n",
            "O horário final de chegada é:  13 : 8\n",
            "A duração total da viagem é:  63 minutos\n"
          ]
        }
      ]
    },
    {
      "cell_type": "code",
      "source": [
        "#18  Crie um algoritmo que simule o horário ideal de sono. O usuário informa a hora em que precisa acordar e o sistema sugere três horários para dormir com base em ciclos de 90 minutos (recomendação médica).\n",
        "hora = int(input(\"Digite a hora em que precisa acordar: \"))\n",
        "for i in range(3):\n",
        "  hora -= 90\n",
        "  if hora < 0:\n",
        "    hora += 24\n",
        "  print(\"O horário ideal para dormir é: \", hora, \":00\")\n",
        ""
      ],
      "metadata": {
        "id": "q0LM8Hpgl9fk"
      },
      "execution_count": null,
      "outputs": []
    },
    {
      "cell_type": "code",
      "source": [
        "#19 Desenvolva um algoritmo que simule uma caminhada virtual. O usuário informa quantos passos dá por minuto e quanto tempo caminhou. O programa calcula quantos quilômetros percorreu, sabendo que 1.300 passos equivalem a 1 km, e fornece uma estimativa de calorias gastas.\n",
        "passos = int(input(\"Digite quantos passos dá por minuto: \"))\n",
        "tempo = int(input(\"Digite quanto tempo caminhou em minutos: \"))\n",
        "km = passos * tempo / 1300\n",
        "calorias = km * 500\n",
        "print(\"Você percorreu\", km, \"km.\")\n",
        "print(\"Você gastou aproximadamente\", calorias, \"calorias.\")\n",
        "\n"
      ],
      "metadata": {
        "id": "Izem2OGil9vL"
      },
      "execution_count": null,
      "outputs": []
    },
    {
      "cell_type": "code",
      "source": [
        "#20 Elabore um algoritmo que leia a data e hora atual e informe em quanto tempo (em horas e minutos) acontecerá o pôr do sol, considerando que ele ocorrerá às 18h. Se o horário atual for após esse horário, exiba que o sol já se pôs.\n",
        "dataatual = input(\"Digite a data atual (dd/mm/aaaa): \")\n",
        "horaatual = input(\"Digite a hora atual (hh:mm): \")\n",
        "if horaatual > \"18:00\":\n",
        "  print(\"O sol já se pôs.\")\n",
        "else:\n",
        "    print(\"O sol ainda não se pôs.\")\n",
        "\n",
        "\n"
      ],
      "metadata": {
        "id": "Hx3RlDudl-Ci"
      },
      "execution_count": null,
      "outputs": []
    }
  ]
}