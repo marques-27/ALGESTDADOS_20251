{
  "nbformat": 4,
  "nbformat_minor": 0,
  "metadata": {
    "colab": {
      "provenance": [],
      "authorship_tag": "ABX9TyNTxd6/H17rV2dlUuUTEGfx",
      "include_colab_link": true
    },
    "kernelspec": {
      "name": "python3",
      "display_name": "Python 3"
    },
    "language_info": {
      "name": "python"
    }
  },
  "cells": [
    {
      "cell_type": "markdown",
      "metadata": {
        "id": "view-in-github",
        "colab_type": "text"
      },
      "source": [
        "<a href=\"https://colab.research.google.com/github/marques-27/ALGESTDADOS_20251/blob/main/corre%C3%A7%C3%A3o_adriana_.ipynb\" target=\"_parent\"><img src=\"https://colab.research.google.com/assets/colab-badge.svg\" alt=\"Open In Colab\"/></a>"
      ]
    },
    {
      "cell_type": "code",
      "execution_count": 4,
      "metadata": {
        "colab": {
          "base_uri": "https://localhost:8080/"
        },
        "id": "c36ynHzMz-Y7",
        "outputId": "d2baed58-8409-4dcb-f589-1d24639fe8e7"
      },
      "outputs": [
        {
          "output_type": "stream",
          "name": "stdout",
          "text": [
            "1\n",
            "2\n",
            "4\n",
            "5\n",
            "7\n",
            "8\n",
            "10\n"
          ]
        }
      ],
      "source": [
        "#8\n",
        "for i in range(1,11):\n",
        " if i%3==0:\n",
        "  continue\n",
        " print(i)"
      ]
    },
    {
      "cell_type": "code",
      "source": [
        "#7 Escreva um código completo em Python que utilize a biblioteca DATETIME para obter e exibir o ano atual na tela\n",
        "from datetime import datetime\n",
        "ano_atual = datetime.now().year\n",
        "print(f\"O ano atual é: {ano_atual}\")"
      ],
      "metadata": {
        "colab": {
          "base_uri": "https://localhost:8080/"
        },
        "id": "5V3Sz2JJ1pHS",
        "outputId": "dce7fc76-9757-48b1-b4b4-78002550a8fb"
      },
      "execution_count": 8,
      "outputs": [
        {
          "output_type": "stream",
          "name": "stdout",
          "text": [
            "O ano atual é: 2025\n"
          ]
        }
      ]
    },
    {
      "cell_type": "code",
      "source": [
        "#9 Crie um algoritmo em Python que solicite ao usuário uma frase qualquer. O programa deve contar a quantidade de caracteres digitados, mas só deve exibir esse numero se a frase tiver mais de 10 caracteres.\n",
        "frase = input(\"Digite uma frase: \")\n",
        "quantidade_caracteres = len(frase)\n",
        "if quantidade_caracteres > 10:\n",
        " print(f\"A frase digitada possui {quantidade_caracteres} caracteres.\")"
      ],
      "metadata": {
        "colab": {
          "base_uri": "https://localhost:8080/"
        },
        "id": "yg5Qlqi-4k5s",
        "outputId": "82fbd02f-7a2b-4ac4-ee0e-0e9b0da9e6b7"
      },
      "execution_count": 10,
      "outputs": [
        {
          "output_type": "stream",
          "name": "stdout",
          "text": [
            "Digite uma frase: através de seus próprios infortúnios que uma pessoa se torna sagaz \n",
            "A frase digitada possui 67 caracteres.\n"
          ]
        }
      ]
    },
    {
      "cell_type": "code",
      "source": [
        "#10 Em Python, uma variável é um nome associado a um espaço na memória usado para armazenar um único valor por vez. Ela permite guardar informações que podem ser reutilizadas ao longo do programa.Considere duas variáveis chamadas POTE_A e POTE_B. Escreva um algoritmo em Python que solicite ao usuário a inserção de um valor para cada uma dessas variáveis.No entanto, após a inserção, os valores devem ser trocados entre si, ou seja, o valor digitado inicialmente para POTE_A deve ser armazenado em POTE_B, e o valor de POTE_B deve ser armazenado em POTE_A.Importante: A troca deve ser feita de forma independente do momento da inserção, ou seja, não é permitido inverter os valores diretamente no momento do input. A lógica de troca deve ocorrer após a leitura dos dados\n",
        "pote_a = input(\"Digite o valor para o pote A: \")\n",
        "pote_b = input(\"Digite o valor para o pote B: \")\n",
        "pote_a, pote_b = pote_b, pote_a\n",
        "print(f\"O valor no pote A é: {pote_a}\")\n",
        "print(f\"O valor no pote B é: {pote_b}\")\n",
        "\n"
      ],
      "metadata": {
        "colab": {
          "base_uri": "https://localhost:8080/"
        },
        "id": "5KUrGWW76KZn",
        "outputId": "acd26661-2776-419e-c16a-b7c3d37c1e92"
      },
      "execution_count": 11,
      "outputs": [
        {
          "output_type": "stream",
          "name": "stdout",
          "text": [
            "Digite o valor para o pote A: 15\n",
            "Digite o valor para o pote B: 18\n",
            "O valor no pote A é: 18\n",
            "O valor no pote B é: 15\n"
          ]
        }
      ]
    }
  ]
}