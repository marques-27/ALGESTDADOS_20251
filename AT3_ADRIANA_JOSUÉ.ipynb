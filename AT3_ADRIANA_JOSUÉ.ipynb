{
  "cells": [
    {
      "cell_type": "markdown",
      "metadata": {
        "id": "view-in-github",
        "colab_type": "text"
      },
      "source": [
        "<a href=\"https://colab.research.google.com/github/marques-27/ALGESTDADOS_20251/blob/main/AT3_ADRIANA_JOSU%C3%89.ipynb\" target=\"_parent\"><img src=\"https://colab.research.google.com/assets/colab-badge.svg\" alt=\"Open In Colab\"/></a>"
      ]
    },
    {
      "cell_type": "markdown",
      "metadata": {
        "id": "TQNWfqCvkwnN"
      },
      "source": [
        "lista 3 - semana 12/13 conjuntos, tuplas e dicionários-\n",
        "alunos: Adriana e Josué"
      ]
    },
    {
      "cell_type": "code",
      "execution_count": null,
      "metadata": {
        "colab": {
          "base_uri": "https://localhost:8080/"
        },
        "id": "j_hiz7xY23EF",
        "outputId": "ed522b70-354c-4808-81c9-8ecbcd84cd19"
      },
      "outputs": [
        {
          "name": "stdout",
          "output_type": "stream",
          "text": [
            "Digite um numero: 18\n",
            "Digite um numero: 17\n",
            "Digite um numero: 16\n",
            "Digite um numero: 15\n",
            "Digite um numero: 22\n",
            "Digite um numero: 18\n",
            "Digite um numero: 16\n",
            "Digite um numero: 27\n",
            "Digite um numero: 38\n",
            "Digite um numero: 15\n",
            "Digite um numero: 18\n",
            "Digite um numero: 38\n",
            "Digite um numero: 27\n",
            "Digite um numero: 16\n",
            "Digite um numero: 17\n",
            "[18, 17, 16, 15, 22, 18, 16, 27, 38, 15, 18, 38, 27, 16, 17]\n",
            "[18, 17, 16, 15, 22, 27, 38]\n"
          ]
        }
      ],
      "source": [
        "#1. Crie uma lista com 15 números inteiros digitados pelo usuário. Em seguida remova todos os números repetidos, mantendo a ordem original.\n",
        "\n",
        "lista =[]\n",
        "for i in range(15):\n",
        "    numero = int(input(\"Digite um numero: \"))\n",
        "    lista.append(numero)\n",
        "print(lista)\n",
        "lista2 = []\n",
        "for i in lista:\n",
        "    if i not in lista2:\n",
        "        lista2.append(i)\n",
        "print(lista2)"
      ]
    },
    {
      "cell_type": "code",
      "source": [
        "#2. Escreva um programa que leia 10 nomes e 10 idades. Armazene os nomes em uma lista e as idades em outra. Em seguida, exiba o nome da pessoa mais velha.\n",
        "\n",
        "lista_nomes =[]\n",
        "lista_idades =[]\n",
        "for i in range(10):\n",
        "    nome = input(\"Digite um nome: \")\n",
        "    idade = int(input(\"Digite uma idade: \"))\n",
        "    lista_nomes.append(nome)\n",
        "    lista_idades.append(idade)\n",
        "    print(lista_nomes)\n",
        "    print(lista_idades)\n",
        "\n",
        "print(lista_nomes[lista_idades.index(max(lista_idades))])\n"
      ],
      "metadata": {
        "id": "65AKAMh3B3RR"
      },
      "execution_count": null,
      "outputs": []
    },
    {
      "cell_type": "code",
      "execution_count": null,
      "metadata": {
        "id": "ByAhPV2zoeSV",
        "colab": {
          "base_uri": "https://localhost:8080/"
        },
        "outputId": "40471461-1c2d-4326-dedc-9d7ac44e41a8"
      },
      "outputs": [
        {
          "output_type": "stream",
          "name": "stdout",
          "text": [
            "Digite um numero: 4\n",
            "Digite um numero: 45\n",
            "Digite um numero: 19\n",
            "Digite um numero: 516\n",
            "Digite um numero: 32\n",
            "Digite um numero: 247\n",
            "Digite um numero: 14\n",
            "Digite um numero: 6\n",
            "Digite um numero: 13\n",
            "Digite um numero: 12\n",
            "[4, 45, 19, 516, 32, 247, 14, 6, 13, 12]\n",
            "[2.0, 135, 57, 258.0, 16.0, 741, 7.0, 3.0, 39, 6.0]\n"
          ]
        }
      ],
      "source": [
        "#3. Faça um programa que leia uma lista de 10 números e divida todos os valores ímpares por 3 e os pares por 2, substituindo os valores originais.\n",
        "\n",
        "lista = []\n",
        "for i in range(10):\n",
        "    numero = int(input(\"Digite um numero: \"))\n",
        "    lista.append(numero)\n",
        "print(lista)\n",
        "lista2 = []\n",
        "for i in lista:\n",
        "    if i % 2 == 0:\n",
        "        lista2.append(i/2)\n",
        "    else:\n",
        "        lista2.append(i*3)\n",
        "print(lista2)\n",
        "\n",
        "\n",
        "\n"
      ]
    },
    {
      "cell_type": "code",
      "execution_count": null,
      "metadata": {
        "id": "W9uiy0tpoenz",
        "colab": {
          "base_uri": "https://localhost:8080/"
        },
        "outputId": "897b2f14-9c9b-4598-e222-37fe7da77842"
      },
      "outputs": [
        {
          "output_type": "stream",
          "name": "stdout",
          "text": [
            "Digite uma frase: A barata diz que tem sete saias de filó, é mentira da barata ela tem é uma só.\n",
            "['A', 'ela', 'uma']\n"
          ]
        }
      ],
      "source": [
        "#4. Solicite ao usuário uma frase. Armazene em uma lista cada palavra que começa com uma vogal. Exiba a lista resultante.\n",
        "\n",
        "frase = input(\"Digite uma frase: \")\n",
        "lista = frase.split()\n",
        "lista2 = []\n",
        "for i in lista:\n",
        "    if i[0] in \"aeiouAEIOU\":\n",
        "        lista2.append(i)\n",
        "print(lista2)\n",
        "\n",
        "\n",
        "\n",
        "\n",
        "\n"
      ]
    },
    {
      "cell_type": "code",
      "execution_count": null,
      "metadata": {
        "id": "g34Y7gEmoe61",
        "colab": {
          "base_uri": "https://localhost:8080/"
        },
        "outputId": "c57d226b-d605-4809-a625-8990cce7cc57"
      },
      "outputs": [
        {
          "output_type": "stream",
          "name": "stdout",
          "text": [
            "Digite um numero: 88\n",
            "Digite um numero: 18\n",
            "Digite um numero: 23\n",
            "Digite um numero: 6\n",
            "Digite um numero: 4\n",
            "Digite um numero: 40\n",
            "Digite um numero: 33\n",
            "Digite um numero: 71\n",
            "Digite um numero: 26\n",
            "Digite um numero: 45\n",
            "[88, 18, 23, 6, 4, 40, 33, 71, 26, 45]\n",
            "[88, 18, 6, 4, 40, 26]\n"
          ]
        }
      ],
      "source": [
        "#5. Leia 10 números inteiros e armazene-os em uma lista. Em seguida, crie uma segunda lista apenas com os números primos da primeira.\n",
        "\n",
        "lista = []\n",
        "for i in range(10):\n",
        "    numero = int(input(\"Digite um numero: \"))\n",
        "    lista.append(numero)\n",
        "print(lista)\n",
        "lista2 = []\n",
        "for i in lista:\n",
        "    if i % 2 == 0:\n",
        "        lista2.append(i)\n",
        "print(lista2)\n"
      ]
    },
    {
      "cell_type": "code",
      "execution_count": null,
      "metadata": {
        "colab": {
          "base_uri": "https://localhost:8080/"
        },
        "id": "mtTA-_jdofRv",
        "outputId": "6fad239f-54ff-46ee-e70d-0064eee1ebf5"
      },
      "outputs": [
        {
          "name": "stdout",
          "output_type": "stream",
          "text": [
            "A lista é palíndroma\n"
          ]
        }
      ],
      "source": [
        "#6. Escreva um programa que leia uma lista de 8 elementos e verifique se ela é palíndroma (lê-se igual de trás para frente).\n",
        "lista = [1, 2, 3, 4, 5, 4, 3, 2, 1]\n",
        "if lista == lista[::-1]:\n",
        "    print(\"A lista é palíndroma\")\n",
        "else:\n",
        "    print(\"A lista não é palíndroma\")\n",
        "\n",
        "\n"
      ]
    },
    {
      "cell_type": "code",
      "execution_count": null,
      "metadata": {
        "colab": {
          "base_uri": "https://localhost:8080/"
        },
        "id": "qNUWU3UHogmz",
        "outputId": "060d0cb8-6126-48a9-94f0-2d3c96b21bdc"
      },
      "outputs": [
        {
          "name": "stdout",
          "output_type": "stream",
          "text": [
            "[2, 4, 6, 8, 10, 12, 14, 16, 18, 20]\n"
          ]
        }
      ],
      "source": [
        "#7. Crie duas listas com 10 números inteiros aleatórios entre 1 e 100. Gere uma terceira lista contendo apenas os elementos que estão presentes em ambas (interseção).\n",
        "\n",
        "lista = [2,4,6,8,10,12,14,16,18,20]\n",
        "lista2 = [2,4,6,8,10,12,14,16,18,20]\n",
        "lista3 = []\n",
        "for i in lista:\n",
        "    if i in lista2:\n",
        "        lista3.append(i)\n",
        "print(lista3)\n"
      ]
    },
    {
      "cell_type": "code",
      "execution_count": null,
      "metadata": {
        "id": "YGN6uNP0ohJS",
        "colab": {
          "base_uri": "https://localhost:8080/"
        },
        "outputId": "dab651ea-c59d-411b-86d7-898bb225c907"
      },
      "outputs": [
        {
          "output_type": "stream",
          "name": "stdout",
          "text": [
            "[23, 15, 50, 7, 45, 54]\n"
          ]
        }
      ],
      "source": [
        "#8. Faça um programa que simule o sorteio de 6 números da Mega-Sena (entre 1 e 60) sem repetição. Armazene em uma lista e exiba.\n",
        "\n",
        "import random\n",
        "lista = []\n",
        "while len(lista) < 6:\n",
        "    numero = random.randint(1, 60)\n",
        "    if numero not in lista:\n",
        "        lista.append(numero)\n",
        "print(lista)"
      ]
    },
    {
      "cell_type": "code",
      "execution_count": null,
      "metadata": {
        "id": "psIyHeInohnO",
        "colab": {
          "base_uri": "https://localhost:8080/"
        },
        "outputId": "ed6ee437-1d03-4b0f-c955-3184faa0bbe8"
      },
      "outputs": [
        {
          "output_type": "stream",
          "name": "stdout",
          "text": [
            "Digite um numero: 22\n",
            "Digite um numero: 55\n",
            "Digite um numero: 6\n",
            "Digite um numero: 41\n",
            "Digite um numero: 18\n",
            "Digite um numero: 21\n",
            "Digite um numero: 45\n",
            "Digite um numero: 7\n",
            "Digite um numero: 3\n",
            "Digite um numero: 9\n",
            "[22, 55, 6, 41, 18, 21, 45, 7, 3, 9]\n",
            "[22, 77, 83, 124, 142, 163, 208, 215, 218, 227]\n"
          ]
        }
      ],
      "source": [
        "#9. Solicite ao usuário uma lista de 10 números. Crie uma nova lista onde cada elemento é o somatório de todos os elementos anteriores da lista original.\n",
        "\n",
        "lista = []\n",
        "for i in range(10):\n",
        "    numero = int(input(\"Digite um numero: \"))\n",
        "    lista.append(numero)\n",
        "print(lista)\n",
        "\n",
        "lista2 = []\n",
        "soma = 0\n",
        "for i in lista:\n",
        "    soma += i\n",
        "    lista2.append(soma)\n",
        "print(lista2)"
      ]
    },
    {
      "cell_type": "code",
      "execution_count": null,
      "metadata": {
        "id": "wxllK_YLoh92",
        "colab": {
          "base_uri": "https://localhost:8080/"
        },
        "outputId": "f77e8ec0-dad7-4e30-fad7-4609410712b6"
      },
      "outputs": [
        {
          "output_type": "stream",
          "name": "stdout",
          "text": [
            "['Gabriel', 'Adriana', 'Mateus', 'Samara', 'Vivian', 'Guilherme', 'Raniely', 'Gustavo', 'Raphael']\n"
          ]
        }
      ],
      "source": [
        "#10. Implemente uma lista de nomes e remova todos que tenham mais de 10 caracteres.\n",
        "nomes = [\"Gabriel\",\"Adriana\",\"Mateus\",\"Samara\",\"Vivian\",\"Guilherme\",\"Raniely\",\"Gustavo\",\"Raphael\"]\n",
        "nomes_filtrados = [nome for nome in nomes if len(nome) <= 10]\n",
        "print(nomes_filtrados)\n",
        "\n",
        "\n",
        "\n",
        "\n",
        "\n",
        "\n",
        "\n",
        "\n",
        "\n",
        "\n",
        "\n",
        "\n"
      ]
    },
    {
      "cell_type": "code",
      "execution_count": null,
      "metadata": {
        "id": "23x44TSZoiUw",
        "colab": {
          "base_uri": "https://localhost:8080/"
        },
        "outputId": "ecfa8c27-8895-4285-95b0-4aa8efc1d89d"
      },
      "outputs": [
        {
          "output_type": "stream",
          "name": "stdout",
          "text": [
            "34\n"
          ]
        }
      ],
      "source": [
        "#11. Crie uma matriz 4x4 com valores fornecidos pelo usuário. Exiba a soma dos elementos da diagonal secundária.\n",
        "\n",
        "matriz = [[1, 2, 3, 4], [5, 6, 7, 8], [9, 10, 11, 12], [13, 14, 15, 16]]\n",
        "soma = 0\n",
        "for i in range(4):\n",
        "    soma += matriz[i][3-i]\n",
        "print(soma)\n",
        "\n",
        "\n"
      ]
    },
    {
      "cell_type": "code",
      "execution_count": null,
      "metadata": {
        "id": "voitw3rKoiox",
        "colab": {
          "base_uri": "https://localhost:8080/"
        },
        "outputId": "b7c4d8ed-d904-4a9f-f084-53858d9805ce"
      },
      "outputs": [
        {
          "output_type": "stream",
          "name": "stdout",
          "text": [
            "[30.0, 6.4, 18.0, 56.0, 37.8]\n"
          ]
        }
      ],
      "source": [
        "#12 Gere uma matriz 5x5 com números aleatórios entre 1 e 99. Em seguida, calcule a média dos elementos de cada linha e armazene os resultados em uma nova lista.\n",
        "\n",
        "matriz = [[10,25,55,45,15],[6,2,8,4,12],[20,19,18,17,16],[84,75,23,48,50],\n",
        " [40,56,85,7,1]]\n",
        "lista = []\n",
        "for i in matriz:\n",
        "    media = sum(i)/len(i)\n",
        "    lista.append(media)\n",
        "print(lista)\n",
        "\n"
      ]
    },
    {
      "cell_type": "code",
      "execution_count": null,
      "metadata": {
        "id": "V4pb9jeAoi_b",
        "colab": {
          "base_uri": "https://localhost:8080/"
        },
        "outputId": "f1b7b4db-3316-47d3-b29f-907f433b45cd"
      },
      "outputs": [
        {
          "output_type": "stream",
          "name": "stdout",
          "text": [
            "A matriz é identidade\n",
            "A matriz é identidade\n",
            "A matriz é identidade\n"
          ]
        }
      ],
      "source": [
        "#13. Solicite uma matriz 3x3 preenchida pelo usuário. Verifique se ela é uma matriz identidade.\n",
        "matriz = [[1,0,0],[0,1,0],[0,0,1]]\n",
        "for i in range(3):\n",
        "    for j in range(3):\n",
        "        if matriz[i][j] != 1 and matriz[i][j] != 0:\n",
        "            print(\"A matriz não é identidade\")\n",
        "            break\n",
        "        elif matriz[i][j] == 1 and matriz[i][j] != matriz[j][i]:\n",
        "            print(\"A matriz não é identidade\")\n",
        "            break\n",
        "        else:\n",
        "            print(\"A matriz é identidade\")\n",
        "            break\n"
      ]
    },
    {
      "cell_type": "code",
      "execution_count": null,
      "metadata": {
        "id": "MCTT95qtojR4",
        "colab": {
          "base_uri": "https://localhost:8080/"
        },
        "outputId": "42cde20e-52fa-4a88-8deb-0b23c3ac3264"
      },
      "outputs": [
        {
          "output_type": "stream",
          "name": "stdout",
          "text": [
            "A matriz é simétrica\n",
            "A matriz é simétrica\n",
            "A matriz é simétrica\n",
            "A matriz é simétrica\n",
            "A matriz é simétrica\n",
            "A matriz é simétrica\n",
            "A matriz é simétrica\n",
            "A matriz é simétrica\n",
            "A matriz é simétrica\n"
          ]
        }
      ],
      "source": [
        "#14. Faça um programa que leia uma matriz 3x3 e verifique se ela é simétrica (igual à sua transposta)\n",
        "\n",
        "matriz = [[1,2,3],[2,4,5],[3,5,6]]\n",
        "for i in range(3):\n",
        "    for j in range(3):\n",
        "        if matriz[i][j] != matriz[j][i]:\n",
        "            print(\"A matriz não é simétrica\")\n",
        "            break\n",
        "        else:\n",
        "            print(\"A matriz é simétrica\")"
      ]
    },
    {
      "cell_type": "code",
      "execution_count": null,
      "metadata": {
        "id": "FHSkKYiHojfx",
        "colab": {
          "base_uri": "https://localhost:8080/"
        },
        "outputId": "95015c65-ebd8-40d7-b6d6-75cf19fcde1f"
      },
      "outputs": [
        {
          "output_type": "stream",
          "name": "stdout",
          "text": [
            "[[0, 0, 0], [4, 5, 6], [14, 16, 18], [30, 33, 36], [52, 56, 60]]\n"
          ]
        }
      ],
      "source": [
        "#15. Crie uma matriz 5x3 onde cada elemento é igual ao produto de sua linha pelo valor da coluna. Exiba a matriz completa.\n",
        "\n",
        "matriz = [[1,2,3],[4,5,6],[7,8,9],[10,11,12],[13,14,15]]\n",
        "for i in range(5):\n",
        "    for j in range(3):\n",
        "        matriz[i][j] = matriz[i][j] * i\n",
        "print(matriz)\n",
        "\n",
        "\n"
      ]
    },
    {
      "cell_type": "code",
      "execution_count": null,
      "metadata": {
        "id": "hzVyQgkhoju5"
      },
      "outputs": [],
      "source": [
        "#16. Crie uma matriz 4x4 com números fornecidos pelo usuário.\n",
        "# Encontre o menor valor de cada coluna e armazene em uma lista separada.\n",
        "matriz=[]\n",
        "for i in range(4):\n",
        "    lista=[]\n",
        "    for j in range(4):\n",
        "        num=int(input(f'Valor[{i}][{j}]:'))\n",
        "        lista.append(num)\n",
        "    matriz.append(lista)\n",
        "for i in range(4):\n",
        "    for j in range(4):\n",
        "        print(matriz[i][j], end=' ')\n",
        "    print()\n",
        "\n",
        "menor=[min([linha[col] for linha in matriz]) for col in range(4)]\n",
        "maior=[[max([linha[col] for linha in matriz]) for col in range(4)]]\n",
        "print(menor)\n",
        "print(maior)\n",
        "#ok"
      ]
    },
    {
      "cell_type": "code",
      "execution_count": null,
      "metadata": {
        "id": "eN3wFTG1oj_Q"
      },
      "outputs": [],
      "source": [
        "#17. Dada uma matriz 3x3 com valores reais, calcule o determinante (sem usar bibliotecas externas).\n",
        "ma = [\n",
        "    [1, 2, 3],\n",
        "    [4, 5, 6],\n",
        "    [7, 8, 9]\n",
        "]\n",
        "\n",
        "det = (\n",
        "    ma[0][0] * (ma[1][1] * ma[2][2] - ma[1][2] * ma[2][1]) -\n",
        "    ma[0][1] * (ma[1][0] * ma[2][2] - ma[1][2] * ma[2][0]) +\n",
        "    ma[0][2] * (ma[1][0] * ma[2][1] - ma[1][1] * ma[2][0])\n",
        ")\n",
        "\n",
        "print(f\"Determinante da matriz ma: {det}\")\n",
        "#ok"
      ]
    },
    {
      "cell_type": "code",
      "source": [
        "#18. Faça um programa que leia duas matrizes 3x3 e calcule a matriz soma e a matriz diferença.\n",
        "ma = [\n",
        "    [1, 2, 3],\n",
        "    [4, 5, 6],\n",
        "    [7, 8, 9]\n",
        "]\n",
        "\n",
        "mb = [\n",
        "    [1, 2, 3],\n",
        "    [12, 32, 43],\n",
        "    [6, 23, 15]\n",
        "]\n",
        "\n",
        "print(\"Matriz A:\")\n",
        "for linha in ma:\n",
        "    for elemento in linha:\n",
        "        print(elemento, end=' ')\n",
        "    print()\n",
        "\n",
        "print(\"\\nMatriz B:\")\n",
        "for linha in mb:\n",
        "    for elemento in linha:\n",
        "        print(elemento, end=' ')\n",
        "    print()\n",
        "\n",
        "matriz_soma = []\n",
        "matriz_dif = []\n",
        "\n",
        "for i in range(3):\n",
        "    linha_soma = []\n",
        "    linha_dif = []\n",
        "    for j in range(3):\n",
        "        linha_soma.append(ma[i][j] + mb[i][j])\n",
        "        linha_dif.append(ma[i][j] - mb[i][j])\n",
        "    matriz_soma.append(linha_soma)\n",
        "    matriz_dif.append(linha_dif)\n",
        "\n",
        "print(\"Matriz Soma:\")\n",
        "for linha in matriz_soma:\n",
        "    for elemento in linha:\n",
        "        print(elemento, end=' ')\n",
        "    print()\n",
        "\n",
        "print(\"Matriz Diferença:\")\n",
        "for linha in matriz_dif:\n",
        "    for elemento in linha:\n",
        "        print(elemento, end=' ')\n",
        "    print()#OK"
      ],
      "metadata": {
        "id": "fIHp0IaQ6PlH"
      },
      "execution_count": null,
      "outputs": []
    },
    {
      "cell_type": "code",
      "source": [
        "#19.Solicite dois conjuntos de 10 elementos fornecidos pelo usuário.\n",
        "#Mostre a interseção, união e diferença (A - B e B - A).\n",
        "print(\"Digite 10 números para o conjunto A:\")\n",
        "a = []\n",
        "while len(a) < 10:\n",
        "    num = int(input(f\"Digite o número {len(a)+1}: \"))\n",
        "    a.append(num)\n",
        "\n",
        "print(\"\\nDigite 10 números para o conjunto B:\")\n",
        "b = []\n",
        "while len(b) < 10:\n",
        "    num = int(input(f\"Digite o número {len(b)+1}: \"))\n",
        "    b.append(num)\n",
        "\n",
        "intersecao = [x for x in a if x in b]\n",
        "uniao = a + [x for x in b if x not in a]\n",
        "a_menos_b = [x for x in a if x not in b]\n",
        "b_menos_a = [x for x in b if x not in a]\n",
        "\n",
        "print(\"\\nInterseção (A ∩ B):\", intersecao)\n",
        "print(\"União (A ∪ B):\", uniao)\n",
        "print(\"Diferença (A - B):\", a_menos_b)\n",
        "print(\"Diferença (B - A):\", b_menos_a)\n",
        "#ok"
      ],
      "metadata": {
        "id": "37vtbwNE6m1F"
      },
      "execution_count": null,
      "outputs": []
    },
    {
      "cell_type": "code",
      "source": [
        "#20. Crie um conjunto com todas as letras usadas em uma frase digitada pelo usuário, excluindo espaços e pontuação.\n",
        "\n",
        "def remove_pontuacao(frase):\n",
        "    pontuacao = \".,!?;:\"\n",
        "    frase_sem_pontuacao = \"\"\n",
        "    for caractere in frase:\n",
        "        if caractere not in pontuacao:\n",
        "            frase_sem_pontuacao += caractere\n",
        "    return frase_sem_pontuacao\n",
        "\n",
        "frase = input(\"Digite uma frase: \")\n",
        "frase_sem_pontuacao = remove_pontuacao(frase)\n",
        "letras_unicas = set(frase_sem_pontuacao)\n",
        "letras_unicas.discard(\" \")\n",
        "print(\"Letras únicas na frase:\", letras_unicas)\n",
        "\n",
        "\n",
        "\n",
        "\n",
        "\n",
        "\n",
        "\n",
        "\n",
        "\n",
        "\n"
      ],
      "metadata": {
        "id": "7XM9gHYW6nTQ"
      },
      "execution_count": null,
      "outputs": []
    },
    {
      "cell_type": "code",
      "source": [
        "#21. Escreva um programa que armazene em um conjunto todos os números entre 1 e 100 que não são múltiplos de 2 nem de 3.\n",
        "cj=[]\n",
        "for i in range(101):\n",
        "  if i%2==0:\n",
        "    continue\n",
        "  elif i%3==0:\n",
        "    continue\n",
        "\n",
        "  print(i)"
      ],
      "metadata": {
        "id": "Y2R6pPyE6nyk"
      },
      "execution_count": null,
      "outputs": []
    },
    {
      "cell_type": "code",
      "source": [
        "#22Solicite ao usuário que digite 10 palavras. Armazene em um conjunto todas as palavras distintas com mais de 5 letras\n",
        "\n",
        "palavras = []\n",
        "\n",
        "for _ in range(10):\n",
        "    palavra = input(\"Digite uma palavra: \").strip()\n",
        "    if len(palavra) > 5 and palavra not in palavras:\n",
        "        palavras.append(palavra)\n",
        "\n",
        "print(f\"Palavras com mais de 5 letras:{palavras}\")\n"
      ],
      "metadata": {
        "id": "Ic8n9qnC6oKS"
      },
      "execution_count": null,
      "outputs": []
    },
    {
      "cell_type": "code",
      "source": [
        "#23. Leia dois conjuntos de inteiros. Verifique se um é subconjunto do outro.\n",
        "a={1,2,3,4,5}\n",
        "b={3,5,6,7,8,}\n",
        "print(a.issubset(b))\n"
      ],
      "metadata": {
        "id": "nXF_HLCT6oke"
      },
      "execution_count": null,
      "outputs": []
    },
    {
      "cell_type": "code",
      "source": [
        "#24. Dado um conjunto de números inteiros, crie um novo conjunto com apenas os quadrados perfeitos encontrados.\n",
        "\n",
        "a={1,2,3,4,5,6,7}\n",
        "quadrados = []\n",
        "quadrados = [num ** 2 for num in a]\n",
        "\n",
        "print(quadrados)\n",
        "#ok"
      ],
      "metadata": {
        "id": "hRN2fCad6pFb"
      },
      "execution_count": null,
      "outputs": []
    },
    {
      "cell_type": "code",
      "source": [
        "#25. Crie um dicionário que armazene o nome e o salário de 5 funcionários. Calcule o reajuste de 10% para salários inferiores a R$ 2.000 e atualize o dicionário.\n",
        "\n",
        "fun={\n",
        "     \"João\":1550,\n",
        "     \"Maria\":2100,\n",
        "     \"José\":10500,\n",
        "     \"Bruna\":3610,\n",
        "     \"Marcos\":1700\n",
        " }\n",
        "for funcionario in fun:\n",
        "    salario=fun[funcionario]\n",
        "    if salario<2000:\n",
        "      sl1= salario*1.1\n",
        "      fun[funcionario]=sl1\n",
        "      print(f' tiveram reajuste salarial os {funcionario} passandoa a receber {sl1:.2f}')\n",
        "#OK"
      ],
      "metadata": {
        "id": "QIRJoO6I6pWk"
      },
      "execution_count": null,
      "outputs": []
    },
    {
      "cell_type": "code",
      "source": [
        "#26. Faça um programa que armazene em um dicionário o nome de 5 alunos e uma lista com suas 3 notas. Depois, exiba o nome e a média de cada aluno.\n",
        "na={\n",
        "     \"João\":(10,15,20),\n",
        "     \"Maria\":(10, 25,20),\n",
        "     \"José\":(9,12,27),\n",
        "     \"Bruna\":(15,25,30),\n",
        "     \"marcos\":(0,2,23)\n",
        " }\n",
        "for aluno in na:\n",
        "    notas=na[aluno]\n",
        "    md = sum(notas) / len(notas)\n",
        "    print(f\"{aluno}: média = {md:.1f}\")\n"
      ],
      "metadata": {
        "id": "tkDPzP9L6pt9"
      },
      "execution_count": null,
      "outputs": []
    },
    {
      "cell_type": "code",
      "source": [
        "#27. Crie um dicionário que armazene palavras e seus sinônimos. Depois, permita que o usuário digite uma palavra e veja seus sinônimos (se existirem).\n",
        "\n",
        "dic={\n",
        "    'grande':('amplo','extenso','imenso'),\n",
        "    'feliz':('contente','alegre','radiante'),\n",
        "    'pequeno':('mínimo','reduzido','compacto')\n",
        "}\n",
        "pala=input(\"DIgite uma palavra a qual queira ver se significado: \").lower()\n",
        "if pala in dic:\n",
        "  print(f\" você escolheu a palavra {pala} e ela tem como significado: {dic[pala]}\")\n",
        "else:\n",
        " print(\"Desculpe me mas a palavra que voce escolheu não cosnta em nosso dicionario\")\n"
      ],
      "metadata": {
        "id": "qKsrf3M58-Hg"
      },
      "execution_count": null,
      "outputs": []
    },
    {
      "cell_type": "code",
      "source": [
        "#28. Solicite ao usuário 10 palavras e armazene em um dicionário onde a chave é a primeira letra e o valor é uma lista de palavras que começam com essa letra.\n",
        "\n",
        "dic1={\n",
        "    \"a\":('Aris','Alyn','Amora'),\n",
        "    \"b\":('Bryn','Bel','Bora'),\n",
        "    'c':('Cyra','Cale','Cryan'),\n",
        "    'd':('Dray','Della','Dorian'),\n",
        "    'e':('Era','Ellis','Elora'),\n",
        "    'f':('Fael','Fionn','Fara'),\n",
        "    'g':('Glyn','Gael','Garry'),\n",
        "    'h':('Hira','Haris','Hel'),\n",
        "    'i':('Ivor','Illy','Isan'),\n",
        "    'j':('Jaron','Jolie','Jory')\n",
        "}\n",
        "ltr=input(\"Digite uma letra a qual queira ver opções de nomes: \").lower()\n",
        "if ltr in dic1:\n",
        " print(f\" você escolheu a letra {ltr} e ela tem como opções: {dic1[ltr]}.\")\n",
        "else:\n",
        " print(f\" você escolheu a letra {ltr} e ela esta indisponivel.\")\n"
      ],
      "metadata": {
        "id": "cj8yFAqk8-EJ"
      },
      "execution_count": null,
      "outputs": []
    },
    {
      "cell_type": "code",
      "source": [
        "#29. Crie um dicionário onde as chaves são nomes de produtos e os valores são listas com preços praticados em três lojas diferentes. Encontre o produto com maior variação de preç\n",
        "produtos = {\n",
        "    'Arroz':(5.70,6.97,4.75) ,\n",
        "    'Feijão':(4.57,8.70,7.55),\n",
        "    'Óleo':(8.37,7.71,4.50)\n",
        "}\n",
        "\n",
        "maior_variacao = 0\n",
        "produto_maior_variacao = ''\n",
        "\n",
        "for produto in produtos:\n",
        "    precos = produtos[produto]\n",
        "    variacao = max(precos) - min(precos)\n",
        "    if variacao > maior_variacao:\n",
        "        maior_variacao = variacao\n",
        "        produto_maior_variacao = produto\n",
        "\n",
        "print(f\"O produto com maior variação de preço é '{produto_maior_variacao}' com variação de R$ {maior_variacao:.2f}\")\n",
        " #ok"
      ],
      "metadata": {
        "id": "AoFmqK1S8-tL"
      },
      "execution_count": null,
      "outputs": []
    },
    {
      "cell_type": "code",
      "source": [
        "#30. Implemente um programa que leia uma frase e armazene em um dicionário o número de ocorrências de cada palavra (ignorando letras\n",
        "frase = input(\"Digite uma frase: \")\n",
        "palavras = frase.lower().split()\n",
        "ocorrencias = {}\n",
        "for palavra in palavras:\n",
        "    if palavra in ocorrencias:\n",
        "        ocorrencias[palavra] += 1\n",
        "    else:\n",
        "        ocorrencias[palavra] = 1\n",
        "print(\"Ocorrências de cada palavra:\")\n",
        "for palavra, contagem in ocorrencias.items():\n",
        "    print(f\"{palavra}: {contagem}\")\n"
      ],
      "metadata": {
        "id": "A2jPti1s-hYT"
      },
      "execution_count": null,
      "outputs": []
    }
  ],
  "metadata": {
    "colab": {
      "provenance": [],
      "include_colab_link": true
    },
    "kernelspec": {
      "display_name": "Python 3",
      "name": "python3"
    },
    "language_info": {
      "name": "python"
    }
  },
  "nbformat": 4,
  "nbformat_minor": 0
}