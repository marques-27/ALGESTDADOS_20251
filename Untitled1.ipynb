{
  "nbformat": 4,
  "nbformat_minor": 0,
  "metadata": {
    "colab": {
      "provenance": [],
      "authorship_tag": "ABX9TyMm6jn8Lgy9Wn40s+ppRx70",
      "include_colab_link": true
    },
    "kernelspec": {
      "name": "python3",
      "display_name": "Python 3"
    },
    "language_info": {
      "name": "python"
    }
  },
  "cells": [
    {
      "cell_type": "markdown",
      "metadata": {
        "id": "view-in-github",
        "colab_type": "text"
      },
      "source": [
        "<a href=\"https://colab.research.google.com/github/marques-27/ALGESTDADOS_20251/blob/main/Untitled1.ipynb\" target=\"_parent\"><img src=\"https://colab.research.google.com/assets/colab-badge.svg\" alt=\"Open In Colab\"/></a>"
      ]
    },
    {
      "cell_type": "code",
      "execution_count": null,
      "metadata": {
        "colab": {
          "base_uri": "https://localhost:8080/"
        },
        "id": "JnxKmb4adLor",
        "outputId": "100fd61c-7e70-415d-806d-e9307ef375c2"
      },
      "outputs": [
        {
          "output_type": "stream",
          "name": "stdout",
          "text": [
            "3890\n"
          ]
        }
      ],
      "source": [
        "num1 = 1930\n",
        "num2= 1960\n",
        "resultado = num1+num2\n",
        "print(resultado)\n"
      ]
    },
    {
      "cell_type": "code",
      "source": [
        "num1=int(imput('Digite o primeiro número')"
      ],
      "metadata": {
        "id": "oJCOY0TOd-l-"
      },
      "execution_count": null,
      "outputs": []
    }
  ]
}