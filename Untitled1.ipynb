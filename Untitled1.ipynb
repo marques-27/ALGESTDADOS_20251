{
  "nbformat": 4,
  "nbformat_minor": 0,
  "metadata": {
    "colab": {
      "provenance": [],
      "include_colab_link": true
    },
    "kernelspec": {
      "name": "python3",
      "display_name": "Python 3"
    },
    "language_info": {
      "name": "python"
    }
  },
  "cells": [
    {
      "cell_type": "markdown",
      "metadata": {
        "id": "view-in-github",
        "colab_type": "text"
      },
      "source": [
        "<a href=\"https://colab.research.google.com/github/marques-27/ALGESTDADOS_20251/blob/main/Untitled1.ipynb\" target=\"_parent\"><img src=\"https://colab.research.google.com/assets/colab-badge.svg\" alt=\"Open In Colab\"/></a>"
      ]
    },
    {
      "cell_type": "code",
      "execution_count": null,
      "metadata": {
        "colab": {
          "base_uri": "https://localhost:8080/"
        },
        "id": "JnxKmb4adLor",
        "outputId": "100fd61c-7e70-415d-806d-e9307ef375c2"
      },
      "outputs": [
        {
          "output_type": "stream",
          "name": "stdout",
          "text": [
            "3890\n"
          ]
        }
      ],
      "source": [
        "num1 = 19300\n",
        "num2= 1960\n",
        "resultado = num1+num2\n",
        "print(resultado)\n"
      ]
    },
    {
      "cell_type": "code",
      "source": [
        "#crie um código de python que calcule o valor do IMC de uma pessoa\n",
        "peso = float(input('insira um número'))"
      ],
      "metadata": {
        "id": "8k4ns1kV7G3S"
      },
      "execution_count": null,
      "outputs": []
    },
    {
      "cell_type": "code",
      "source": [
        "num1=int(input('insira um número'))\n",
        "num2=int(input('insira um número'))\n",
        "resultado=num1+num2\n",
        "print(resultado)\n"
      ],
      "metadata": {
        "id": "oJCOY0TOd-l-",
        "colab": {
          "base_uri": "https://localhost:8080/",
          "height": 176
        },
        "outputId": "fe114c62-8c60-4536-eb01-dd176195ada7"
      },
      "execution_count": null,
      "outputs": [
        {
          "output_type": "error",
          "ename": "NameError",
          "evalue": "name 'imput' is not defined",
          "traceback": [
            "\u001b[0;31m---------------------------------------------------------------------------\u001b[0m",
            "\u001b[0;31mNameError\u001b[0m                                 Traceback (most recent call last)",
            "\u001b[0;32m<ipython-input-3-76f777d0eb01>\u001b[0m in \u001b[0;36m<cell line: 0>\u001b[0;34m()\u001b[0m\n\u001b[0;32m----> 1\u001b[0;31m \u001b[0mnum1\u001b[0m\u001b[0;34m=\u001b[0m\u001b[0mint\u001b[0m\u001b[0;34m(\u001b[0m\u001b[0mimput\u001b[0m\u001b[0;34m(\u001b[0m\u001b[0;36m1930\u001b[0m \u001b[0;34m+\u001b[0m \u001b[0;36m1960\u001b[0m\u001b[0;34m)\u001b[0m\u001b[0;34m)\u001b[0m\u001b[0;34m\u001b[0m\u001b[0;34m\u001b[0m\u001b[0m\n\u001b[0m\u001b[1;32m      2\u001b[0m \u001b[0mresultado\u001b[0m \u001b[0;34m=\u001b[0m \u001b[0mnum1\u001b[0m \u001b[0;34m+\u001b[0m \u001b[0mnum2\u001b[0m\u001b[0;34m\u001b[0m\u001b[0;34m\u001b[0m\u001b[0m\n\u001b[1;32m      3\u001b[0m \u001b[0mPrint\u001b[0m\u001b[0;34m(\u001b[0m\u001b[0mresultado\u001b[0m\u001b[0;34m)\u001b[0m\u001b[0;34m\u001b[0m\u001b[0;34m\u001b[0m\u001b[0m\n",
            "\u001b[0;31mNameError\u001b[0m: name 'imput' is not defined"
          ]
        }
      ]
    },
    {
      "cell_type": "code",
      "source": [
        "#crie um programa que informe o nome, a cidade e a idade de um usuário através da sua data de nascimento\n",
        "nome= input('Digite o seu nome:')\n",
        "cidade= input('Digite o nome da sua cidade:')\n",
        "data_nascimento= input('Quanto você nasceu? (DD/MM/YYYY)')"
      ],
      "metadata": {
        "id": "GaSH5RGIVNA7"
      },
      "execution_count": null,
      "outputs": []
    }
  ]
}