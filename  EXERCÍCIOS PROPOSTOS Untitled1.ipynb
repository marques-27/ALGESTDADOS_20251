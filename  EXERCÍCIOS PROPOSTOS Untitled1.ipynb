{
  "nbformat": 4,
  "nbformat_minor": 0,
  "metadata": {
    "colab": {
      "provenance": [],
      "include_colab_link": true
    },
    "kernelspec": {
      "name": "python3",
      "display_name": "Python 3"
    },
    "language_info": {
      "name": "python"
    }
  },
  "cells": [
    {
      "cell_type": "markdown",
      "metadata": {
        "id": "view-in-github",
        "colab_type": "text"
      },
      "source": [
        "<a href=\"https://colab.research.google.com/github/marques-27/ALGESTDADOS_20251/blob/main/%20EXERC%C3%8DCIOS%20PROPOSTOS%20Untitled1.ipynb\" target=\"_parent\"><img src=\"https://colab.research.google.com/assets/colab-badge.svg\" alt=\"Open In Colab\"/></a>"
      ]
    },
    {
      "cell_type": "code",
      "execution_count": null,
      "metadata": {
        "colab": {
          "base_uri": "https://localhost:8080/"
        },
        "id": "JnxKmb4adLor",
        "outputId": "17b71654-9eb3-4023-92ce-d9e21a2bfa7b"
      },
      "outputs": [
        {
          "output_type": "stream",
          "name": "stdout",
          "text": [
            "3570\n"
          ]
        }
      ],
      "source": [
        "#soma de dois números conhecidos em Python\n",
        "num1 = 1930\n",
        "num2= 1640\n",
        "resultado= num1+num2\n",
        "print(resultado)\n"
      ]
    },
    {
      "cell_type": "code",
      "source": [
        "num1=int(input('insira um número'))\n",
        "num2=int(input('insira um número'))\n",
        "resultado=num1+num2\n",
        "print(resultado)\n"
      ],
      "metadata": {
        "id": "yV9iIXlzF8by"
      },
      "execution_count": null,
      "outputs": []
    },
    {
      "cell_type": "code",
      "source": [
        "#crie um algoritmo em python que calcule o IMC de uma pessoa\n",
        "#p1: dados\n",
        "peso= float(input('digite o peso '))\n",
        "altura=float(input('digite sua altura'))\n",
        "IMC= peso / altura **2\n",
        "print(IMC)\n"
      ],
      "metadata": {
        "id": "5QPXWxSWNHK3"
      },
      "execution_count": null,
      "outputs": []
    },
    {
      "cell_type": "code",
      "source": [
        "# Criar um programa que retorne o nome, a cidade e a idade de um usuário através da sua data de nascimento.\n",
        "\n",
        "#importando a biblioteca datetime\n",
        "from datetime import datetime\n",
        "\n",
        "#Atribui um valor textual a variável nome\n",
        "nome = input('Digite o seu lindo nome: ')\n",
        "\n",
        "#Atribui um valor textual a variável nome\n",
        "cidade = input('Digite o nome da sua linda cidade: ')\n",
        "\n",
        "#Data de nascimento em formato de texto\n",
        "data_nasc = input('Quando você nasceu? (DD/MM/YYYY): ')\n",
        "\n",
        "#Convertendo a data_nasc para o formato de data\n",
        "data_conv = datetime.strptime(data_nasc, '%d/%m/%Y')\n",
        "\n",
        "#Pegando do sistema a data de hoje\n",
        "hoje = datetime.now()\n",
        "\n",
        "#Idade = Data de hoje - Data de Nascimento, em dias, dividido por 365 dias do ano\n",
        "idade = (hoje - data_conv).days // 365\n",
        "\n",
        "print(f'Seu nome é {nome}, sua cidade é {cidade} e sua idade é {idade} anos')"
      ],
      "metadata": {
        "id": "4YHyWm4i6YDT"
      },
      "execution_count": null,
      "outputs": []
    },
    {
      "cell_type": "code",
      "source": [
        "from datetime import datetime, date, time, timedelta\n",
        "import pytz\n",
        "fuso_horario = pytz.timezone(\"America/Sao_Paulo\")\n",
        "data_hora_atual = datetime.now(fuso_horario)\n",
        "print(\"Data e Hora Atual:\", data_hora_atual.strftime('%d/%m/%Y e sao %H:%M'))\n"
      ],
      "metadata": {
        "id": "iqLo8EGLysiu",
        "outputId": "e35018ad-aa76-4b4e-d53c-75811985edfc",
        "colab": {
          "base_uri": "https://localhost:8080/"
        }
      },
      "execution_count": 24,
      "outputs": [
        {
          "output_type": "stream",
          "name": "stdout",
          "text": [
            "Data e Hora Atual: 07/03/2025 e sao 15:40\n"
          ]
        }
      ]
    }
  ]
}